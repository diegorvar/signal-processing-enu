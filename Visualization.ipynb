{
 "cells": [
  {
   "cell_type": "markdown",
   "id": "e0b2a9e1",
   "metadata": {},
   "source": [
    "# Data Visualization\n",
    "By Intern: Diego Varela, Mentor: Surendra Adhikari"
   ]
  },
  {
   "cell_type": "code",
   "execution_count": 319,
   "id": "9affcfab",
   "metadata": {},
   "outputs": [],
   "source": [
    "import numpy as np\n",
    "import matplotlib.pyplot as plt\n",
    "import scipy\n",
    "import os\n",
    "import pandas as pd\n",
    "import datetime\n"
   ]
  },
  {
   "cell_type": "code",
   "execution_count": null,
   "id": "38ae00dc",
   "metadata": {},
   "outputs": [],
   "source": [
    "data_folder = '/Users/dlugardo/Desktop/data/ENU_v2' # path to the folder with the data \n",
    "metadata = \n",
    "\n",
    "def get_data(location):\n",
    "    file_name = str(location) + '.ENU.txt'\n",
    "    path = os.path.join(data_folder, file_name)\n",
    "\n",
    "    if os.path.isfile(path):\n",
    "        data = np.loadtxt(path, skiprows=2)\n",
    "    else:\n",
    "        file_name = str(location) + '_ENU.txt'\n",
    "        path = os.path.join(data_folder, file_name)\n",
    "\n",
    "        if os.path.isfile(path):\n",
    "            data = np.loadtxt(path, skiprows=2)\n",
    "        else:\n",
    "            raise FileNotFoundError(f\"Neither '{location}.ENU.txt' nor '{location}_ENU.txt' found in {data_folder}\")\n",
    "    return data"
   ]
  },
  {
   "cell_type": "code",
   "execution_count": 320,
   "id": "8595860a",
   "metadata": {},
   "outputs": [],
   "source": [
    "def decimal_year_to_date(decimal_year):\n",
    "    \"\"\"\n",
    "    Converts a decimal year to a datetime.date object.\n",
    "    \"\"\"\n",
    "    year = int(decimal_year)\n",
    "    fractional_part = decimal_year - year\n",
    "\n",
    "    # Determine if it's a leap year for accurate day calculation\n",
    "    is_leap = (year % 4 == 0 and year % 100 != 0) or (year % 400 == 0)\n",
    "    days_in_year = 366 if is_leap else 365\n",
    "\n",
    "    # Calculate the number of days from the start of the year\n",
    "    days_offset = fractional_part * days_in_year\n",
    "\n",
    "    # Create a datetime object for January 1st of that year\n",
    "    start_of_year = datetime.date(year, 1, 1)\n",
    "\n",
    "    # Add the calculated offset in days\n",
    "    result_date = start_of_year + datetime.timedelta(days=days_offset)\n",
    "\n",
    "    return result_date\n",
    "\n",
    "# Example usage:\n",
    "decimal_year_value = AASI_time[1261]\n",
    "date_result = decimal_year_to_date(decimal_year_value)\n",
    "#print(f\"The decimal year {decimal_year_value} converts to: {date_result}\")"
   ]
  },
  {
   "cell_type": "code",
   "execution_count": null,
   "id": "ec35eaa9",
   "metadata": {},
   "outputs": [],
   "source": []
  }
 ],
 "metadata": {
  "kernelspec": {
   "display_name": "Python 3 (ipykernel)",
   "language": "python",
   "name": "python3"
  },
  "language_info": {
   "codemirror_mode": {
    "name": "ipython",
    "version": 3
   },
   "file_extension": ".py",
   "mimetype": "text/x-python",
   "name": "python",
   "nbconvert_exporter": "python",
   "pygments_lexer": "ipython3",
   "version": "3.13.5"
  }
 },
 "nbformat": 4,
 "nbformat_minor": 5
}
