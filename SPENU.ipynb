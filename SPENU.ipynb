{
 "cells": [
  {
   "cell_type": "markdown",
   "id": "a074cc11",
   "metadata": {},
   "source": [
    "## Signal Processing ENU\n",
    "August 4, Intern: Diego Varela, Mentor: Surendra Adhikari"
   ]
  },
  {
   "cell_type": "code",
   "execution_count": null,
   "id": "88836b7d",
   "metadata": {},
   "outputs": [],
   "source": [
    "import numpy as np\n",
    "import matplotlib.pyplot as plt\n",
    "import scipy\n",
    "import os\n",
    "import pandas as pd"
   ]
  },
  {
   "cell_type": "code",
   "execution_count": null,
   "id": "7c20e780-54c1-4cc9-ade0-6a9881ec7d8f",
   "metadata": {},
   "outputs": [],
   "source": [
    "data_folder = '/Users/dlugardo/Desktop/data/ENU_v2' # path to the folder with the data \n",
    "locations = ['AASI', 'ASKY', 'AVAN', 'BLAS', 'DANE', 'DGJG', 'SRMP'] # Name of some locations\n",
    "\n",
    "def get_data(location):\n",
    "    file_name = str(location) + '.ENU.txt'\n",
    "    path = os.path.join(data_folder, file_name)\n",
    "\n",
    "    if os.path.isfile(path):\n",
    "        data = np.loadtxt(path, skiprows=2)\n",
    "    else:\n",
    "        file_name = str(location) + '_ENU.txt'\n",
    "        path = os.path.join(data_folder, file_name)\n",
    "\n",
    "        if os.path.isfile(path):\n",
    "            data = np.loadtxt(path, skiprows=2)\n",
    "        else:\n",
    "            raise FileNotFoundError(f\"Neither '{location}.ENU.txt' nor '{location}_ENU.txt' found in {data_folder}\")\n",
    "    return data"
   ]
  },
  {
   "cell_type": "code",
   "execution_count": null,
   "id": "0b0d6d6e-bb53-43e0-93f4-08b00114dcc2",
   "metadata": {},
   "outputs": [],
   "source": [
    "np.shape(get_data(locations[0]))"
   ]
  },
  {
   "cell_type": "markdown",
   "id": "0e72f2d3-a118-442e-ac7a-ccec11a5087f",
   "metadata": {},
   "source": [
    "Data file has shape (features, variables). This is how they look like:\n",
    " \n",
    " | Time (years) | East (mm) | North (mm) | Up (mm) | East_error (mm) | North_error (mm) | Up_error (mm) |\n",
    " | ------------ | --------- | ---------- | ------- | --------------- | ---------------- | --------------|\n",
    " | 2005.746739  |  81.1990  | -44.5710   | -22.8590|   0.7640        | 1.0650  |  3.8750 |\n",
    " | entry 2 ... |   entry 2 ... |entry 2 ... |entry 2 ... |entry 2 ... |entry 2 ... |entry 2 ... |entry 2 ... |\n"
   ]
  },
  {
   "cell_type": "code",
   "execution_count": null,
   "id": "47ca42cf-82be-4620-8de1-5660e1fff2af",
   "metadata": {},
   "outputs": [],
   "source": [
    "AASI = get_data('SRMP')\n",
    "AASI_time = AASI[:,0]\n",
    "AASI_data = AASI[:,1:4]\n",
    "AASI_error = AASI[:,4:]\n",
    "\n",
    "AASI_data_detrended = scipy.signal.detrend(AASI_data, axis = 0)"
   ]
  },
  {
   "cell_type": "markdown",
   "id": "724f7be5-e1f6-46b2-a2ec-0a8cf7bc9975",
   "metadata": {},
   "source": [
    "What I am doing with the data:\n",
    "1. Plots of the Raw Data\n",
    "2. Detrended data using scipy:  Average is set to zero. \n",
    "3. Fast Fourier Transformations: Through frequency, we can observe how often does the signal repeat (i.e. how long are seasons), \n",
    "4. PCA: Understand the main drivers of the signal change."
   ]
  },
  {
   "cell_type": "code",
   "execution_count": null,
   "id": "aab449d2-d2d5-4691-85bb-96b6e4f7438a",
   "metadata": {},
   "outputs": [],
   "source": [
    "years = 2 \n",
    "fig, axs = plt.subplots(3, 3, figsize=(20, 15))\n",
    "titles = ['East (mm)', 'North (mm)', 'Up (mm)']\n",
    "\n",
    "axs[0,0].plot(AASI_time, AASI_data[:,0])\n",
    "axs[0,1].plot(AASI_time, AASI_data[:,1])\n",
    "axs[0,2].plot(AASI_time, AASI_data[:,2])\n",
    "\n",
    "axs[1,0].plot(AASI_time, AASI_data_detrended[:,0])\n",
    "axs[1,1].plot(AASI_time, AASI_data_detrended[:,1])\n",
    "axs[1,2].plot(AASI_time, AASI_data_detrended[:,2])\n",
    "\n",
    "axs[2,0].plot(AASI_time[:365*years], AASI_data_detrended[:365*years,0])\n",
    "axs[2,1].plot(AASI_time[:365*years], AASI_data_detrended[:365*years,1])\n",
    "axs[2,2].plot(AASI_time[:365*years], AASI_data_detrended[:365*years,2])\n",
    "\n",
    "axs[0,0].set_title('East Raw (mm)', weight = 'bold', size = 14)\n",
    "axs[0,1].set_title('North Raw (mm)', weight = 'bold', size = 14)\n",
    "axs[0,2].set_title('Up Raw (mm)', weight = 'bold', size = 14)\n",
    "\n",
    "axs[1,0].set_title('East Detrended (mm)', size = 12)\n",
    "axs[1,1].set_title('North Detrended (mm)', size = 12)\n",
    "axs[1,2].set_title('Up Detrended (mm)', size = 12)\n",
    "\n",
    "fig.suptitle('AASI ENU Data', weight= 'bold', size = 16, y = 0.93)\n",
    "plt.show()"
   ]
  },
  {
   "cell_type": "code",
   "execution_count": null,
   "id": "4b989d57-2d4f-4568-9a6f-a23dcd2be2f3",
   "metadata": {},
   "outputs": [],
   "source": [
    "#axs[2].scatter(AASI_time, AASI_data[:,2], 0.5, '0.0', lw = 2)\n",
    "#axs[2].scatter(AASI_time, AASI_data[:,2], 0.51, '1.0', lw = 0,)\n",
    "#axs[2].scatter(AASI_time, AASI_data[:,2], 0.55, 'C1', lw = 0, alpha = 0.5)"
   ]
  },
  {
   "cell_type": "code",
   "execution_count": null,
   "id": "2d51d74c-2f05-4785-8e6d-228371f729b3",
   "metadata": {},
   "outputs": [],
   "source": [
    "def moving_average(a, n=30):\n",
    "    ret = np.cumsum(a, dtype=float)\n",
    "    ret[n:] = ret[n:] - ret[:-n]\n",
    "    return ret[n - 1:] / n\n",
    "\n",
    "moving_avg_east = moving_average(AASI_data[:,0])\n",
    "moving_avg_north = moving_average(AASI_data[:,0])\n",
    "moving_avg_up = moving_average(AASI_data[:,2])"
   ]
  },
  {
   "cell_type": "code",
   "execution_count": null,
   "id": "157fd69c-cd63-4043-8c2e-a43c84cb93f1",
   "metadata": {},
   "outputs": [],
   "source": []
  },
  {
   "cell_type": "code",
   "execution_count": null,
   "id": "b9daec77-b6a7-4239-a7dc-4183746f21a5",
   "metadata": {},
   "outputs": [],
   "source": [
    "AASI_error[:,0] + AASI_data[:,0]"
   ]
  },
  {
   "cell_type": "code",
   "execution_count": null,
   "id": "dc51efe5-c032-4090-bcae-c365b39ea695",
   "metadata": {},
   "outputs": [],
   "source": [
    "fig, axs = plt.subplots(3, 1, sharex=True, figsize=(20,8))\n",
    "fig.subplots_adjust(hspace=0)\n",
    "\n",
    "axs[0].fill_between(AASI_time, AASI_data[:,0] + AASI_error[:,0], AASI_data[:,0] - AASI_error[:,0], color = 'g')\n",
    "axs[0].plot(AASI_time, AASI_data[:,0], marker = '.', ls = '', ms = 1.5, alpha = 0.6)\n",
    "\n",
    "axs[2].fill_between(AASI_time, AASI_data[:,2] + AASI_error[:,2], AASI_data[:,2] - AASI_error[:,2], color = 'g', label = 'error', alpha = 0.7)\n",
    "axs[1].plot(AASI_time, AASI_data[:,1], marker = '.', ls = '', ms = 1.5, alpha = 0.6)\n",
    "\n",
    "axs[2].fill_between(AASI_time, AASI_data[:,2] + AASI_error[:,2], AASI_data[:,2] - AASI_error[:,2], color = 'g', label = 'error', alpha = 0.7)\n",
    "axs[2].plot(AASI_time, AASI_data[:,2], marker = '.', ls = '', ms = 1.5, alpha = 0.6, label = 'obs')\n",
    "\n",
    "axs[0].plot(AASI_time[29:], moving_avg_east, marker = '', ls = '-',  alpha = 0.7, c = 'black')\n",
    "axs[1].plot(AASI_time[29:], moving_avg_north, marker = '', ls = '-',  alpha = 0.7, c = 'black')\n",
    "axs[2].plot(AASI_time[29:], moving_avg_up, marker = '', ls = '-',  alpha = 0.7, c = 'black', label = 'rolling average, n = 30')\n",
    "\n",
    "axs[0].set_ylabel('East (mm)')\n",
    "axs[0].set_xlabel('Date')\n",
    "axs[1].set_ylabel('North (mm)')\n",
    "axs[2].set_ylabel('Up (mm)')\n",
    "\n",
    "axs[2].legend()\n",
    "fig.suptitle('SRMP Evolution', y = 0.95)\n"
   ]
  },
  {
   "cell_type": "code",
   "execution_count": null,
   "id": "6ffd1967-d4e8-49e2-a65d-bd6ca9719491",
   "metadata": {},
   "outputs": [],
   "source": []
  },
  {
   "cell_type": "markdown",
   "id": "e1c46d84-7a5f-45b0-a93e-72bb279243ad",
   "metadata": {},
   "source": [
    "lat/lon/elev (d/d/m):\t72.9107\t-54.3937\t370.6\n",
    "\n",
    "Through time, we can observe that the sensor is moving to the northwest while moving up. Crust is spreading out.\n",
    "\n",
    "The detrended versions show "
   ]
  },
  {
   "cell_type": "markdown",
   "id": "0a46e420-b372-4450-99d6-570c939c186e",
   "metadata": {},
   "source": [
    "## Detrended Climatology \n",
    "Changed dates from decimals to datetime and made into a pandas dataframe for easier manipulation."
   ]
  },
  {
   "cell_type": "code",
   "execution_count": null,
   "id": "476b1737-a7db-4c3f-aedf-d13bf19067b9",
   "metadata": {},
   "outputs": [],
   "source": [
    "import datetime\n",
    "\n",
    "def decimal_year_to_date(decimal_year):\n",
    "    \"\"\"\n",
    "    Converts a decimal year to a datetime.date object.\n",
    "    \"\"\"\n",
    "    year = int(decimal_year)\n",
    "    fractional_part = decimal_year - year\n",
    "\n",
    "    # Determine if it's a leap year for accurate day calculation\n",
    "    is_leap = (year % 4 == 0 and year % 100 != 0) or (year % 400 == 0)\n",
    "    days_in_year = 366 if is_leap else 365\n",
    "\n",
    "    # Calculate the number of days from the start of the year\n",
    "    days_offset = fractional_part * days_in_year\n",
    "\n",
    "    # Create a datetime object for January 1st of that year\n",
    "    start_of_year = datetime.date(year, 1, 1)\n",
    "\n",
    "    # Add the calculated offset in days\n",
    "    result_date = start_of_year + datetime.timedelta(days=days_offset)\n",
    "\n",
    "    return result_date\n",
    "\n",
    "# Example usage:\n",
    "decimal_year_value = AASI_time[1261]\n",
    "date_result = decimal_year_to_date(decimal_year_value)\n",
    "print(f\"The decimal year {decimal_year_value} converts to: {date_result}\")"
   ]
  },
  {
   "cell_type": "code",
   "execution_count": null,
   "id": "eb17ddb4-8dd7-4826-b1f0-25f1f8f9cd0f",
   "metadata": {},
   "outputs": [],
   "source": [
    "converted_dates = np.array([decimal_year_to_date(dy) for dy in AASI_time])"
   ]
  },
  {
   "cell_type": "code",
   "execution_count": null,
   "id": "18ba2d42-07e7-4754-baa3-9a4d0f70855e",
   "metadata": {},
   "outputs": [],
   "source": [
    "df = pd.DataFrame({'date':converted_dates})\n",
    "df['east'] = pd.Series(AASI_data_detrended[:,0])\n",
    "df['north'] = pd.Series(AASI_data_detrended[:,1])\n",
    "df['up'] = pd.Series(AASI_data_detrended[:,2])\n",
    "\n",
    "df.set_index('date', inplace=True)\n",
    "df\n",
    "\n",
    "climatology = df.groupby('date').mean('date').values \n",
    "climatology"
   ]
  },
  {
   "cell_type": "code",
   "execution_count": null,
   "id": "03a02520-fb7a-4ad8-b30a-637a01c75db4",
   "metadata": {},
   "outputs": [],
   "source": [
    "df['month_day'] = df.index.map(lambda x: x.strftime('%m-%d'))\n",
    "\n",
    "climatology = df.groupby('month_day')[['east', 'north', 'up']].mean()\n",
    "climatology\n",
    "\n",
    "df['month'] = df.index.map(lambda x: x.strftime('%m'))\n",
    "climatology_monthly = df.groupby('month')[['east', 'north', 'up']].mean()\n",
    "climatology_monthly"
   ]
  },
  {
   "cell_type": "code",
   "execution_count": null,
   "id": "b20b9668-1ae1-4145-a7fb-9ffee39df0e7",
   "metadata": {},
   "outputs": [],
   "source": [
    "df['month'] = df.index.map(lambda x: x.strftime('%m'))\n",
    "climatology_monthly = df.groupby('month')[['east', 'north', 'up']].mean()\n",
    "climatology_monthly"
   ]
  },
  {
   "cell_type": "code",
   "execution_count": null,
   "id": "9d6afb50-b643-4877-8e45-5ca17e4507d4",
   "metadata": {},
   "outputs": [],
   "source": [
    "fig, axs = plt.subplots(1, 3, figsize=(20, 8))\n",
    "Time_months = ['Jan','Feb','Mar','Apr','May','Jun','Jul','Aug','Sep','Oct','Nov','Dec']\n",
    "month_ticks = [f'{month:02d}-01' for month in range(1, 13)]\n",
    "\n",
    "axs[0].plot(climatology['east'])\n",
    "axs[1].plot(climatology['north'])\n",
    "axs[2].plot(climatology['up'])\n",
    "\n",
    "monthly_aligned_index = [f\"{month}-15\" for month in climatology_monthly.index]\n",
    "\n",
    "axs[0].plot(monthly_aligned_index, climatology_monthly['east'])\n",
    "axs[1].plot(monthly_aligned_index, climatology_monthly['north'])\n",
    "axs[2].plot(monthly_aligned_index, climatology_monthly['up'])\n",
    "\n",
    "for ax in axs:\n",
    "    ax.set_xticks(month_ticks) \n",
    "    ax.set_xticklabels(Time_months, rotation=45)\n",
    "    \n",
    "axs[0].set_title('East Detrended (mm)', size = 12)\n",
    "axs[1].set_title('North Detrended (mm)', size = 12)\n",
    "axs[2].set_title('Up Detrended (mm)', size = 12)\n",
    "\n",
    "fig.suptitle('AASI Climatology', weight= 'bold', size = 16, y = 0.93)\n",
    "plt.show()"
   ]
  },
  {
   "cell_type": "markdown",
   "id": "d1c464b7-a61b-4ab7-b1a4-ff5fa2518b59",
   "metadata": {},
   "source": [
    "To think about:\n",
    "- Maybe lets do a 3D Plot to see how the vectors are moving (or at least east and north)\n",
    "- lets see if its possible to also obtain precipitation and temperature data.\n",
    "- Up seems to behave like a cosine function.\n",
    "- Lets calculate the reproducability index for each of them\n",
    "- pca of day of year vs data. maybe svd too\n",
    "- we do see that when there is melt (goes down), the sensor also moves to the northeast. Novemeber/December seems to have a small dip (which also appears on the north and east trend) --> check if this also happens on other datasets\n",
    "- - rolling average?"
   ]
  },
  {
   "cell_type": "code",
   "execution_count": null,
   "id": "c74be43c-d138-4acb-baed-66ccf15b4faa",
   "metadata": {},
   "outputs": [],
   "source": [
    "ax = plt.figure().add_subplot(projection='3d')\n",
    "ax.view_init(elev=15, azim=75, roll=0)\n",
    "\n",
    "ax.plot(climatology_monthly['east'], climatology_monthly['north'], climatology_monthly['up'], lw = 0.5)\n",
    "ax.set_xlabel(\"East (mm)\")\n",
    "ax.set_ylabel(\"North (mm)\")\n",
    "ax.set_zlabel(\"Up (mm)\")"
   ]
  },
  {
   "cell_type": "markdown",
   "id": "4a952c70-a8fa-4672-94d3-abe2b5dfe6fe",
   "metadata": {},
   "source": [
    "## Spectral Analysis\n",
    "By doing so, we can break into smaller parts the signals, allowing us to isolate seasonality from variability"
   ]
  },
  {
   "cell_type": "code",
   "execution_count": null,
   "id": "d2d2981e-165e-48f3-96f9-6a505524d65d",
   "metadata": {},
   "outputs": [],
   "source": [
    "df"
   ]
  },
  {
   "cell_type": "code",
   "execution_count": null,
   "id": "585156fd-7f90-4294-aa2d-b870be5c3e45",
   "metadata": {},
   "outputs": [],
   "source": [
    "from scipy.fft import dct, idct"
   ]
  },
  {
   "cell_type": "code",
   "execution_count": null,
   "id": "20ccfbbc-9979-4ca2-83ec-58a7c569492c",
   "metadata": {},
   "outputs": [],
   "source": []
  }
 ],
 "metadata": {
  "kernelspec": {
   "display_name": "Python 3 (ipykernel)",
   "language": "python",
   "name": "python3"
  },
  "language_info": {
   "codemirror_mode": {
    "name": "ipython",
    "version": 3
   },
   "file_extension": ".py",
   "mimetype": "text/x-python",
   "name": "python",
   "nbconvert_exporter": "python",
   "pygments_lexer": "ipython3",
   "version": "3.13.5"
  }
 },
 "nbformat": 4,
 "nbformat_minor": 5
}
